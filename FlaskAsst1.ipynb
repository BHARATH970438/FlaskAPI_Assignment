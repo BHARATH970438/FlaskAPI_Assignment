{
 "cells": [
  {
   "attachments": {},
   "cell_type": "markdown",
   "metadata": {},
   "source": [
    "Q1. What is Flask Framework? What are the advantages of Flask Framework?"
   ]
  },
  {
   "attachments": {},
   "cell_type": "markdown",
   "metadata": {},
   "source": [
    "flask is web framework written in python.Flask is a web framework that allows developers to build lightweight web applications quickly and easily with Flask Libraries.It is basically based on the WSGI toolkit and Jinja2 templating engine."
   ]
  },
  {
   "attachments": {},
   "cell_type": "markdown",
   "metadata": {},
   "source": [
    "Advantages of Flask Framework:\n",
    "1. Flask is known for its simplicity and minimalistic design. It has a small core and a modular structure, allowing developers to add only the necessary components. This simplicity makes it easy to learn and use, particularly for beginners.\n",
    "2. Flask provides great flexibility, allowing developers to make decisions about how they want to structure their applications.\n",
    "3. Flask is highly extensible and provides a wide range of extensions to add additional functionality to your application. These extensions cover various areas such as database integration, authentication, form validation, and more.\n",
    "4. Flask comes with a built-in development server, which makes it easy to develop and test applications locally. It enables rapid prototyping and simplifies the development workflow.\n",
    "5. Flask has a large and active community of developers, which means there are plenty of resources, tutorials, and libraries available."
   ]
  },
  {
   "attachments": {},
   "cell_type": "markdown",
   "metadata": {},
   "source": [
    "Q2. Create a simple Flask application to display ‘Hello World!!’. Attach the screenshot of the output in\n",
    "Jupyter Notebook."
   ]
  },
  {
   "cell_type": "code",
   "execution_count": null,
   "metadata": {},
   "outputs": [],
   "source": [
    "from flask import Flask\n",
    "\n",
    "app = Flask(__name__)\n",
    "\n",
    "@app.route(\"/\")\n",
    "def hello_world():\n",
    "    data = {'Hello World!'}\n",
    "\n",
    "if __name__==\"__main__\":\n",
    "    app.run(host=\"0.0.0.0\")"
   ]
  },
  {
   "attachments": {},
   "cell_type": "markdown",
   "metadata": {},
   "source": [
    "https://drive.google.com/file/d/181syVEBHNv4Q8ktyYcNbHxrqXbEk_BwK/view?usp=drive_link"
   ]
  },
  {
   "attachments": {},
   "cell_type": "markdown",
   "metadata": {},
   "source": [
    "Q3. What is App routing in Flask? Why do we use app routes?"
   ]
  },
  {
   "attachments": {},
   "cell_type": "markdown",
   "metadata": {},
   "source": [
    "\n",
    "In Flask, app routing refers to the process of mapping URLs (Uniform Resource Locators) to specific functions in our application. It allows you to define different URL patterns and associate them with the corresponding Python functions that handle the requests."
   ]
  },
  {
   "attachments": {},
   "cell_type": "markdown",
   "metadata": {},
   "source": [
    "Flask uses a concept called \"decorators\" to define routes. Decorators are special functions that modify the behavior of the function they decorate. In Flask, the '@app.route' decorator is used to associate a URL pattern with a function."
   ]
  },
  {
   "attachments": {},
   "cell_type": "markdown",
   "metadata": {},
   "source": [
    "Q4. Create a “/welcome” route to display the welcome message “Welcome to ABC Corporation” and a “/”\n",
    "route to show the following details:\n",
    "Company Name: ABC Corporation\n",
    "Location: India\n",
    "Contact Detail: 999-999-9999"
   ]
  },
  {
   "cell_type": "code",
   "execution_count": null,
   "metadata": {},
   "outputs": [],
   "source": [
    "from flask import Flask\n",
    "\n",
    "app = Flask(__name__)\n",
    "\n",
    "@app.route('/welcome')\n",
    "def welcome():\n",
    "    return 'Welcome to ABC Corporation'\n",
    "\n",
    "@app.route('/')\n",
    "def company_details():\n",
    "        return 'Company Name: ABC Corporation  ,Location : India ,Contact Detail: 999-999-9999'\n",
    "\n",
    "if __name__ == '__main__':\n",
    "    app.run(host=\"0.0.0.0\")"
   ]
  },
  {
   "attachments": {},
   "cell_type": "markdown",
   "metadata": {},
   "source": [
    "https://drive.google.com/file/d/1O8_gBD9PewJrnFKA6DQjpqdtxAO2Y9Ri/view?usp=sharing\n",
    "\n",
    "https://drive.google.com/file/d/1bLYSpLFnlMwKhNrFMwgD9A4cro4l5e8c/view?usp=drive_link"
   ]
  },
  {
   "attachments": {},
   "cell_type": "markdown",
   "metadata": {},
   "source": [
    "Q5. What function is used in Flask for URL Building? Write a Python code to demonstrate the working of the\n",
    "url_for() function."
   ]
  },
  {
   "attachments": {},
   "cell_type": "markdown",
   "metadata": {},
   "source": [
    "In Flask, the url_for() function is used for URL building. It generates a URL for a given endpoint and can handle dynamic routes by accepting arguments as keyword arguments."
   ]
  },
  {
   "cell_type": "code",
   "execution_count": 11,
   "metadata": {},
   "outputs": [
    {
     "name": "stdout",
     "output_type": "stream",
     "text": [
      "URLs:\n",
      "Index: /\n",
      "User Profile: /user/john\n",
      "Post: /post/42\n"
     ]
    }
   ],
   "source": [
    "from flask import Flask, url_for\n",
    "\n",
    "app = Flask(__name__)\n",
    "\n",
    "@app.route('/')\n",
    "def index():\n",
    "    return 'Hello, Flask!'\n",
    "\n",
    "@app.route('/user/<username>')\n",
    "def user_profile(username):\n",
    "    return f'Profile page of {username}'\n",
    "\n",
    "@app.route('/post/<int:post_id>')\n",
    "def show_post(post_id):\n",
    "    return f'Post {post_id}'\n",
    "\n",
    "if __name__ == '__main__':\n",
    "    with app.test_request_context():\n",
    "        # Generate URLs using the url_for function\n",
    "        index_url = url_for('index')\n",
    "        user_url = url_for('user_profile', username='john')\n",
    "        post_url = url_for('show_post', post_id=42)\n",
    "\n",
    "        print('URLs:')\n",
    "        print('Index:', index_url)\n",
    "        print('User Profile:', user_url)\n",
    "        print('Post:', post_url)\n"
   ]
  }
 ],
 "metadata": {
  "kernelspec": {
   "display_name": "Python 3",
   "language": "python",
   "name": "python3"
  },
  "language_info": {
   "codemirror_mode": {
    "name": "ipython",
    "version": 3
   },
   "file_extension": ".py",
   "mimetype": "text/x-python",
   "name": "python",
   "nbconvert_exporter": "python",
   "pygments_lexer": "ipython3",
   "version": "3.11.0"
  },
  "orig_nbformat": 4
 },
 "nbformat": 4,
 "nbformat_minor": 2
}
